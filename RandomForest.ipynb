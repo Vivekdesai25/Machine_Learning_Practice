{
  "cells": [
    {
      "cell_type": "markdown",
      "metadata": {
        "id": "view-in-github",
        "colab_type": "text"
      },
      "source": [
        "<a href=\"https://colab.research.google.com/github/Vivekdesai25/Machine_Learning_Practice/blob/main/RandomForest.ipynb\" target=\"_parent\"><img src=\"https://colab.research.google.com/assets/colab-badge.svg\" alt=\"Open In Colab\"/></a>"
      ]
    },
    {
      "cell_type": "code",
      "source": [
        "import pandas as pd\n",
        "\n",
        "df = pd.read_csv(\"/content/iris (1).csv\")\n",
        "\n",
        "X = df.drop(columns=[\"target\"])\n",
        "y = df[\"target\"]\n",
        "\n",
        "from sklearn.preprocessing import LabelEncoder\n",
        "le =  LabelEncoder()\n",
        "y_encoded = le.fit_transform(y)\n",
        "\n",
        "from sklearn.model_selection import train_test_split\n",
        "X_train, X_test, y_train, y_test =  train_test_split(X, y_encoded, test_size=0.2, random_state=58)\n",
        "\n",
        "from sklearn.ensemble import RandomForestClassifier\n",
        "rf_model =  RandomForestClassifier(n_estimators=15, random_state=42)\n",
        "rf_model.fit(X_train, y_train)\n",
        "\n",
        "sample_index = 24\n",
        "sample = X_test.iloc[sample_index].values.reshape(1, -1)\n",
        "\n",
        "tree_preds = [tree.predict(sample)[0] for tree in rf_model.estimators_]\n",
        "\n",
        "from collections import Counter\n",
        "vote_counts = Counter(tree_preds)\n",
        "\n",
        "label_votes = {le.inverse_transform([int(k)])[0]: v for k, v in vote_counts.items()}\n",
        "\n",
        "print(\"\\n class votes:\")\n",
        "for label, count in label_votes.items():\n",
        "    print(f\"{label}: {count} vote(s)\")\n",
        "\n",
        "majority_encoded, _ = vote_counts.most_common(1)[0]\n",
        "majority_label = le.inverse_transform([int(majority_encoded)])[0]\n",
        "\n",
        "true_label = le.inverse_transform([int(y_test[sample_index])])[0]\n",
        "\n",
        "print(f\"\\nfinal prediction (Majority vote): {majority_label}\")\n",
        "print(f\"actual label: {true_label}\")"
      ],
      "metadata": {
        "colab": {
          "base_uri": "https://localhost:8080/"
        },
        "id": "A9wt1XfJ9DnZ",
        "outputId": "c5e4f335-6123-44c7-ce5a-f202a632ddd7"
      },
      "execution_count": 2,
      "outputs": [
        {
          "output_type": "stream",
          "name": "stdout",
          "text": [
            "\n",
            " class votes:\n",
            "Iris-setosa: 15 vote(s)\n",
            "\n",
            "final prediction (Majority vote): Iris-setosa\n",
            "actual label: Iris-setosa\n"
          ]
        }
      ]
    }
  ],
  "metadata": {
    "colab": {
      "provenance": [],
      "include_colab_link": true
    },
    "kernelspec": {
      "display_name": "Python 3",
      "name": "python3"
    },
    "language_info": {
      "name": "python"
    }
  },
  "nbformat": 4,
  "nbformat_minor": 0
}