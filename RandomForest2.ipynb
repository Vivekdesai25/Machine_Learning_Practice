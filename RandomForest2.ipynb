{
  "cells": [
    {
      "cell_type": "markdown",
      "metadata": {
        "id": "view-in-github",
        "colab_type": "text"
      },
      "source": [
        "<a href=\"https://colab.research.google.com/github/Vivekdesai25/Machine_Learning_Practice/blob/main/RandomForest2.ipynb\" target=\"_parent\"><img src=\"https://colab.research.google.com/assets/colab-badge.svg\" alt=\"Open In Colab\"/></a>"
      ]
    },
    {
      "cell_type": "code",
      "source": [
        "import pandas as pd\n",
        "\n",
        "df = pd.read_csv(\"/content/iris (1).csv\")\n",
        "\n",
        "X = df.drop(columns=[\"target\"])\n",
        "y = df[\"target\"]\n",
        "\n",
        "from sklearn.preprocessing import LabelEncoder\n",
        "le =  LabelEncoder()\n",
        "y_encoded = le.fit_transform(y)\n",
        "\n",
        "from sklearn.model_selection import train_test_split\n",
        "X_train, X_test, y_train, y_test =  train_test_split(X, y_encoded, test_size=0.2, random_state=58)\n",
        "\n",
        "from sklearn.ensemble import RandomForestClassifier\n",
        "rf_model =  RandomForestClassifier(n_estimators=15, random_state=42)\n",
        "rf_model.fit(X_train, y_train)\n",
        "\n",
        "sample_index = 24\n",
        "sample = X_test.iloc[sample_index].values.reshape(1, -1)\n",
        "\n",
        "tree_preds = [tree.predict(sample)[0] for tree in rf_model.estimators_]\n",
        "\n",
        "from collections import Counter\n",
        "vote_counts = Counter(tree_preds)\n",
        "\n",
        "label_votes = {le.inverse_transform([int(k)])[0]: v for k, v in vote_counts.items()}\n",
        "\n",
        "print(\"\\n class votes:\")\n",
        "for label, count in label_votes.items():\n",
        "    print(f\"{label}: {count} vote(s)\")\n",
        "\n",
        "majority_encoded, _ = vote_counts.most_common(1)[0]\n",
        "majority_label = le.inverse_transform([int(majority_encoded)])[0]\n",
        "\n",
        "true_label = le.inverse_transform([int(y_test[sample_index])])[0]\n",
        "\n",
        "print(f\"\\nfinal prediction (Majority vote): {majority_label}\")\n",
        "print(f\"actual label: {true_label}\")"
      ],
      "metadata": {
        "colab": {
          "base_uri": "https://localhost:8080/"
        },
        "id": "A9wt1XfJ9DnZ",
        "outputId": "433decf8-7d4e-4df7-9033-07200ee7109c"
      },
      "execution_count": 2,
      "outputs": [
        {
          "output_type": "stream",
          "name": "stdout",
          "text": [
            "\n",
            " class votes:\n",
            "Iris-setosa: 15 vote(s)\n",
            "\n",
            "final prediction (Majority vote): Iris-setosa\n",
            "actual label: Iris-setosa\n"
          ]
        }
      ]
    },
    {
      "cell_type": "code",
      "source": [
        "import pandas as pd\n",
        "from sklearn.model_selection import train_test_split\n",
        "from sklearn.preprocessing import LabelEncoder\n",
        "from sklearn.ensemble import RandomForestClassifier\n",
        "from collections import Counter\n",
        "\n",
        "# Load data\n",
        "df = pd.read_csv(\"/content/iris (1).csv\")\n",
        "le = LabelEncoder()\n",
        "X, y = df.drop(columns=[\"target\"]), le.fit_transform(df[\"target\"])\n",
        "\n",
        "# Train model\n",
        "X_train, X_test, y_train, y_test = train_test_split(X, y, test_size=0.2, random_state=58)\n",
        "rf = RandomForestClassifier(n_estimators=15, random_state=42).fit(X_train, y_train)\n",
        "\n",
        "# Voting from trees\n",
        "i = 24\n",
        "sample = [X_test.iloc[i]]\n",
        "votes = Counter(int(tree.predict(sample)[0]) for tree in rf.estimators_)\n",
        "\n",
        "# Output\n",
        "print(\"\\nClass votes:\")\n",
        "for encoded_label, count in votes.items():\n",
        "    print(f\"{le.inverse_transform([encoded_label])[0]}: {count} vote(s)\")\n",
        "\n",
        "majority_encoded, _ = votes.most_common(1)[0]\n",
        "majority_label = le.inverse_transform([majority_encoded])[0]\n",
        "true_label = le.inverse_transform([y_test[i]])[0]\n",
        "\n",
        "print(f\"\\nFinal prediction (Majority vote): {majority_label}\")\n",
        "print(f\"Actual label: {true_label}\")"
      ],
      "metadata": {
        "colab": {
          "base_uri": "https://localhost:8080/"
        },
        "id": "fnqB_jmIAqRQ",
        "outputId": "8b9ed5d8-36d7-4cf3-c285-3f1e0e8f5fa7"
      },
      "execution_count": 8,
      "outputs": [
        {
          "output_type": "stream",
          "name": "stdout",
          "text": [
            "\n",
            "Class votes:\n",
            "Iris-setosa: 15 vote(s)\n",
            "\n",
            "Final prediction (Majority vote): Iris-setosa\n",
            "Actual label: Iris-setosa\n"
          ]
        }
      ]
    }
  ],
  "metadata": {
    "colab": {
      "provenance": [],
      "include_colab_link": true
    },
    "kernelspec": {
      "display_name": "Python 3",
      "name": "python3"
    },
    "language_info": {
      "name": "python"
    }
  },
  "nbformat": 4,
  "nbformat_minor": 0
}